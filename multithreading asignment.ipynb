{
 "cells": [
  {
   "cell_type": "code",
   "execution_count": null,
   "id": "7e3414e8-66e8-4643-9d53-0b0dce6738bd",
   "metadata": {},
   "outputs": [],
   "source": [
    "#1\n",
    "i  =Multithreading is a kind of process by which number of thread can be runned under a \n",
    "single process\n",
    "thread\n",
    "ii = it is used because to increase the efficiency of program by using\n",
    "the cpu cores\n",
    "iii = thrading"
   ]
  },
  {
   "cell_type": "code",
   "execution_count": null,
   "id": "e9054dd3-b05d-4383-b855-504b63acf49a",
   "metadata": {},
   "outputs": [],
   "source": [
    "#2\n",
    "because it allow to run the different part of program at same time\n",
    "and present our code in simple way\n",
    "@ activecount() \n",
    "are used to return the number of thread object that are active\n",
    "@ currentthread()\n",
    "they are basically built in function inside the threading module \n",
    "and used to return current thread object\n",
    "@ enumerate()\n",
    "they are used to return a list of all thread object currently\n",
    "alive"
   ]
  },
  {
   "cell_type": "code",
   "execution_count": null,
   "id": "68432492-3c3a-470e-aa88-4bf28eca949e",
   "metadata": {},
   "outputs": [],
   "source": [
    "#3\n",
    "i = run() are method execute many target function for a active thread object\n",
    "ii = start() are used to start thread action\n",
    "iii = join() inbuilt function in python\n",
    "iv = is alive() is used to check the thread is alive or not "
   ]
  },
  {
   "cell_type": "code",
   "execution_count": null,
   "id": "8a96d482-0cb4-4801-acb9-05e7e12473cb",
   "metadata": {},
   "outputs": [],
   "source": [
    "#4\n",
    "advantage \n",
    "enhance performance by decreasing dovelopment time\n",
    "number of task executed at a time \n",
    "simplified program coding \n",
    "disadvantage\n",
    "difficult in debugging\n",
    "difficulty in managing concurrency\n",
    "\n"
   ]
  },
  {
   "cell_type": "code",
   "execution_count": null,
   "id": "0dd8f743-ba9c-4bef-8740-120c2ba9f67c",
   "metadata": {},
   "outputs": [],
   "source": []
  }
 ],
 "metadata": {
  "kernelspec": {
   "display_name": "Python 3 (ipykernel)",
   "language": "python",
   "name": "python3"
  },
  "language_info": {
   "codemirror_mode": {
    "name": "ipython",
    "version": 3
   },
   "file_extension": ".py",
   "mimetype": "text/x-python",
   "name": "python",
   "nbconvert_exporter": "python",
   "pygments_lexer": "ipython3",
   "version": "3.10.8"
  }
 },
 "nbformat": 4,
 "nbformat_minor": 5
}
