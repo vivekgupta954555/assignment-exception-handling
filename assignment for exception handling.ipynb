{
 "cells": [
  {
   "cell_type": "code",
   "execution_count": null,
   "id": "3fb7af1b-bc69-47ae-8479-f705d8e73153",
   "metadata": {},
   "outputs": [],
   "source": [
    "# QUESTION 1\n",
    "\n",
    "EXCEPTION is occoured during execution of program and when python code is not handled it \n",
    "raise an exception\n",
    "SYNTAX ERROR are generted due to when code is not run comletely\n",
    "and EXCEPTION are resist for the normal flow of program\n"
   ]
  },
  {
   "cell_type": "code",
   "execution_count": null,
   "id": "2588c473-12b4-4351-922f-59627315a950",
   "metadata": {},
   "outputs": [],
   "source": [
    "#QUESTION 2\n",
    " the exception is re-raised after the finally clause has been executed"
   ]
  },
  {
   "cell_type": "code",
   "execution_count": 2,
   "id": "52c789c7-af5d-4d61-8ded-d8b7e363215c",
   "metadata": {},
   "outputs": [
    {
     "name": "stderr",
     "output_type": "stream",
     "text": [
      "ERROR:root:this is zero division error division by zero\n"
     ]
    }
   ],
   "source": [
    "import logging\n",
    "logging.basicConfig(filenmae = \"errror.txt\", level = logging.ERROR)\n",
    "try :\n",
    "    10/0\n",
    "except ZeroDivisionError as e :\n",
    "    logging.error(\"this is zero division error {}\".format(e))\n",
    "else :\n",
    "    logging.error(\"this is executed after the try code run {}\".format(e))\n",
    "    "
   ]
  },
  {
   "cell_type": "code",
   "execution_count": 6,
   "id": "5010e584-ef8b-4bf3-a513-5d8981d8f7c6",
   "metadata": {},
   "outputs": [
    {
     "name": "stdout",
     "output_type": "stream",
     "text": [
      "this will executed after the execution of try block\n"
     ]
    },
    {
     "ename": "FileNotFoundError",
     "evalue": "[Errno 2] No such file or directory: 'test1.txt'",
     "output_type": "error",
     "traceback": [
      "\u001b[0;31m---------------------------------------------------------------------------\u001b[0m",
      "\u001b[0;31mFileNotFoundError\u001b[0m                         Traceback (most recent call last)",
      "Cell \u001b[0;32mIn[6], line 3\u001b[0m\n\u001b[1;32m      1\u001b[0m \u001b[38;5;66;03m# question no 3\u001b[39;00m\n\u001b[1;32m      2\u001b[0m \u001b[38;5;28;01mtry\u001b[39;00m :\n\u001b[0;32m----> 3\u001b[0m     f \u001b[38;5;241m=\u001b[39m \u001b[38;5;28;43mopen\u001b[39;49m\u001b[43m(\u001b[49m\u001b[38;5;124;43m\"\u001b[39;49m\u001b[38;5;124;43mtest1.txt\u001b[39;49m\u001b[38;5;124;43m\"\u001b[39;49m\u001b[43m,\u001b[49m\u001b[38;5;124;43m'\u001b[39;49m\u001b[38;5;124;43mr\u001b[39;49m\u001b[38;5;124;43m'\u001b[39;49m\u001b[43m)\u001b[49m\n\u001b[1;32m      4\u001b[0m     f\u001b[38;5;241m.\u001b[39mwrite(\u001b[38;5;124m\"\u001b[39m\u001b[38;5;124mthis is file named test\u001b[39m\u001b[38;5;124m\"\u001b[39m)\n\u001b[1;32m      5\u001b[0m \u001b[38;5;28;01mfinally\u001b[39;00m :\n",
      "File \u001b[0;32m/opt/conda/lib/python3.10/site-packages/IPython/core/interactiveshell.py:282\u001b[0m, in \u001b[0;36m_modified_open\u001b[0;34m(file, *args, **kwargs)\u001b[0m\n\u001b[1;32m    275\u001b[0m \u001b[38;5;28;01mif\u001b[39;00m file \u001b[38;5;129;01min\u001b[39;00m {\u001b[38;5;241m0\u001b[39m, \u001b[38;5;241m1\u001b[39m, \u001b[38;5;241m2\u001b[39m}:\n\u001b[1;32m    276\u001b[0m     \u001b[38;5;28;01mraise\u001b[39;00m \u001b[38;5;167;01mValueError\u001b[39;00m(\n\u001b[1;32m    277\u001b[0m         \u001b[38;5;124mf\u001b[39m\u001b[38;5;124m\"\u001b[39m\u001b[38;5;124mIPython won\u001b[39m\u001b[38;5;124m'\u001b[39m\u001b[38;5;124mt let you open fd=\u001b[39m\u001b[38;5;132;01m{\u001b[39;00mfile\u001b[38;5;132;01m}\u001b[39;00m\u001b[38;5;124m by default \u001b[39m\u001b[38;5;124m\"\u001b[39m\n\u001b[1;32m    278\u001b[0m         \u001b[38;5;124m\"\u001b[39m\u001b[38;5;124mas it is likely to crash IPython. If you know what you are doing, \u001b[39m\u001b[38;5;124m\"\u001b[39m\n\u001b[1;32m    279\u001b[0m         \u001b[38;5;124m\"\u001b[39m\u001b[38;5;124myou can use builtins\u001b[39m\u001b[38;5;124m'\u001b[39m\u001b[38;5;124m open.\u001b[39m\u001b[38;5;124m\"\u001b[39m\n\u001b[1;32m    280\u001b[0m     )\n\u001b[0;32m--> 282\u001b[0m \u001b[38;5;28;01mreturn\u001b[39;00m \u001b[43mio_open\u001b[49m\u001b[43m(\u001b[49m\u001b[43mfile\u001b[49m\u001b[43m,\u001b[49m\u001b[43m \u001b[49m\u001b[38;5;241;43m*\u001b[39;49m\u001b[43margs\u001b[49m\u001b[43m,\u001b[49m\u001b[43m \u001b[49m\u001b[38;5;241;43m*\u001b[39;49m\u001b[38;5;241;43m*\u001b[39;49m\u001b[43mkwargs\u001b[49m\u001b[43m)\u001b[49m\n",
      "\u001b[0;31mFileNotFoundError\u001b[0m: [Errno 2] No such file or directory: 'test1.txt'"
     ]
    }
   ],
   "source": [
    "# question no 3\n",
    "try :\n",
    "    f = open(\"test1.txt\",'r')\n",
    "    f.write(\"this is file named test\")\n",
    "finally :\n",
    "    print(\"this will executed after the execution of try block\")\n",
    "    \n",
    "    \n"
   ]
  },
  {
   "cell_type": "code",
   "execution_count": 12,
   "id": "55d6f675-8fae-41ab-80d3-8daee3f87d43",
   "metadata": {},
   "outputs": [],
   "source": [
    "#ques no. 4\n",
    "class student(Exception):\n",
    "    def __init__(self,msg) :\n",
    "        self.msg = msg"
   ]
  },
  {
   "cell_type": "code",
   "execution_count": 13,
   "id": "bdc570d5-4dc5-4b27-ac88-e14597cb4454",
   "metadata": {},
   "outputs": [],
   "source": [
    "\n",
    "\n",
    "def student(percentage):\n",
    "    if percentage >95 :\n",
    "        raise student(\"student is first division\")\n",
    "    elif percentage >60 :\n",
    "        raise student(\"student is second division\") \n",
    "    else :\n",
    "        print(\"student are fail\")\n",
    "        \n"
   ]
  },
  {
   "cell_type": "code",
   "execution_count": null,
   "id": "dc2ac82f-45bf-4682-9ec2-3e661675b470",
   "metadata": {},
   "outputs": [],
   "source": [
    "try :\n",
    "    int(input(\"enter your pecentage\"))\n",
    "    student(percentage)\n",
    "except student as e :\n",
    "    print (e)\n",
    "    "
   ]
  },
  {
   "cell_type": "code",
   "execution_count": null,
   "id": "2808227c-f313-42d7-905d-e87d511c9fb1",
   "metadata": {},
   "outputs": [],
   "source": [
    "#ques no 5\n",
    "if there is no class is found in execution library\n",
    "but we have to raise the exception then we use the custom exseption\n",
    "we need custom exception because if we want to\n",
    "execute any class which has no defined library\n",
    "in python then bt custom method we can define\n",
    "\n",
    "example\n",
    "age = int(input(\"enter your age\")) # according to \n",
    "system it is not error but if we enter negative \n",
    "age then it system show negative then we have to raise exception"
   ]
  },
  {
   "cell_type": "code",
   "execution_count": null,
   "id": "5a406c46-f7e9-499e-a9de-7295482b9407",
   "metadata": {},
   "outputs": [],
   "source": [
    "#ques no  6\n",
    "class validateage(Exception):\n",
    "    def __init__(self,msg):\n",
    "        self.msg = msg\n",
    "    "
   ]
  },
  {
   "cell_type": "code",
   "execution_count": null,
   "id": "87ee535c-98b4-4e78-a915-efd0572c0233",
   "metadata": {},
   "outputs": [],
   "source": [
    "def validateage(age):\n",
    "    if age <0:\n",
    "        raise validateage(\"entered age is negative\")\n",
    "    else age >0 :\n",
    "        raise validateage(\"entered age is high\")\n",
    "    else:\n",
    "        print(\"age is valid\")"
   ]
  },
  {
   "cell_type": "code",
   "execution_count": null,
   "id": "04d8bf07-c3bd-4ed4-847e-00223d2e3862",
   "metadata": {},
   "outputs": [],
   "source": [
    "try :\n",
    "    age = int(input(\"enter your age\"))\n",
    "    validateage(age)\n",
    "except \n"
   ]
  }
 ],
 "metadata": {
  "kernelspec": {
   "display_name": "Python 3 (ipykernel)",
   "language": "python",
   "name": "python3"
  },
  "language_info": {
   "codemirror_mode": {
    "name": "ipython",
    "version": 3
   },
   "file_extension": ".py",
   "mimetype": "text/x-python",
   "name": "python",
   "nbconvert_exporter": "python",
   "pygments_lexer": "ipython3",
   "version": "3.10.8"
  }
 },
 "nbformat": 4,
 "nbformat_minor": 5
}
